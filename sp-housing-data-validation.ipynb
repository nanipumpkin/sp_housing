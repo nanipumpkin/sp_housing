{
 "cells": [
  {
   "attachments": {},
   "cell_type": "markdown",
   "metadata": {
    "id": "Bg9dsAGTg-sL"
   },
   "source": [
    "## Data Validation"
   ]
  },
  {
   "cell_type": "code",
   "execution_count": 4,
   "metadata": {},
   "outputs": [],
   "source": [
    "# Import libraries\n",
    "import re\n",
    "import pandas as pd\n",
    "import matplotlib.pyplot as plt\n",
    "import seaborn as sns"
   ]
  },
  {
   "cell_type": "code",
   "execution_count": 5,
   "metadata": {},
   "outputs": [],
   "source": [
    "# Read in dataset\n",
    "properties = pd.read_csv('datasets/Sao_Paulo.csv')"
   ]
  },
  {
   "cell_type": "code",
   "execution_count": 6,
   "metadata": {},
   "outputs": [
    {
     "name": "stdout",
     "output_type": "stream",
     "text": [
      "<class 'pandas.core.frame.DataFrame'>\n",
      "RangeIndex: 10008 entries, 0 to 10007\n",
      "Data columns (total 8 columns):\n",
      " #   Column     Non-Null Count  Dtype \n",
      "---  ------     --------------  ----- \n",
      " 0   Rua        6574 non-null   object\n",
      " 1   Bairro     9996 non-null   object\n",
      " 2   Cidade     10008 non-null  object\n",
      " 3   Metragem   10008 non-null  int64 \n",
      " 4   Quartos    10008 non-null  int64 \n",
      " 5   Banheiros  10008 non-null  int64 \n",
      " 6   Vagas      10008 non-null  int64 \n",
      " 7   Valor      10008 non-null  object\n",
      "dtypes: int64(4), object(4)\n",
      "memory usage: 625.6+ KB\n"
     ]
    }
   ],
   "source": [
    "# Check original data shape, types and missing entries\n",
    "properties.info()"
   ]
  },
  {
   "cell_type": "code",
   "execution_count": 7,
   "metadata": {},
   "outputs": [
    {
     "name": "stdout",
     "output_type": "stream",
     "text": [
      "Dataset length: 10008\n",
      "Number of columns: 8\n",
      "Missing addresses (Rua): 3434\n",
      "Missing wards (Bairro): 12\n",
      "Total number of missing entries: 3446\n"
     ]
    }
   ],
   "source": [
    "# Calculate summary of missing entries\n",
    "missing_addresses = 10008 - 6574\n",
    "missing_wards = 10008 - 9996\n",
    "missing_entries = missing_addresses + missing_wards\n",
    "\n",
    "print('Dataset length:', len(properties))\n",
    "print('Number of columns:', len(properties.columns))\n",
    "print('Missing addresses (Rua):', missing_addresses)\n",
    "print('Missing wards (Bairro):', missing_wards)\n",
    "print('Total number of missing entries:', missing_entries)"
   ]
  },
  {
   "attachments": {},
   "cell_type": "markdown",
   "metadata": {},
   "source": [
    "### Validation of column 'Rua'"
   ]
  },
  {
   "cell_type": "code",
   "execution_count": 8,
   "metadata": {},
   "outputs": [
    {
     "data": {
      "text/html": [
       "<div>\n",
       "<style scoped>\n",
       "    .dataframe tbody tr th:only-of-type {\n",
       "        vertical-align: middle;\n",
       "    }\n",
       "\n",
       "    .dataframe tbody tr th {\n",
       "        vertical-align: top;\n",
       "    }\n",
       "\n",
       "    .dataframe thead th {\n",
       "        text-align: right;\n",
       "    }\n",
       "</style>\n",
       "<table border=\"1\" class=\"dataframe\">\n",
       "  <thead>\n",
       "    <tr style=\"text-align: right;\">\n",
       "      <th></th>\n",
       "      <th>Rua</th>\n",
       "      <th>Bairro</th>\n",
       "      <th>Cidade</th>\n",
       "      <th>Metragem</th>\n",
       "      <th>Quartos</th>\n",
       "      <th>Banheiros</th>\n",
       "      <th>Vagas</th>\n",
       "      <th>Valor</th>\n",
       "    </tr>\n",
       "  </thead>\n",
       "  <tbody>\n",
       "    <tr>\n",
       "      <th>0</th>\n",
       "      <td>Avenida Itacira, 255</td>\n",
       "      <td>Planalto Paulista</td>\n",
       "      <td>São Paulo</td>\n",
       "      <td>1000</td>\n",
       "      <td>4</td>\n",
       "      <td>8</td>\n",
       "      <td>6</td>\n",
       "      <td>R$ 7.000.000</td>\n",
       "    </tr>\n",
       "    <tr>\n",
       "      <th>1</th>\n",
       "      <td>Rua Aurelia Perez Alvarez, 42</td>\n",
       "      <td>Jardim dos Estados</td>\n",
       "      <td>São Paulo</td>\n",
       "      <td>496</td>\n",
       "      <td>4</td>\n",
       "      <td>4</td>\n",
       "      <td>4</td>\n",
       "      <td>R$ 3.700.000</td>\n",
       "    </tr>\n",
       "    <tr>\n",
       "      <th>2</th>\n",
       "      <td>Rua Alba Valdez</td>\n",
       "      <td>Jardim Reimberg</td>\n",
       "      <td>São Paulo</td>\n",
       "      <td>125</td>\n",
       "      <td>4</td>\n",
       "      <td>3</td>\n",
       "      <td>2</td>\n",
       "      <td>R$ 380.000</td>\n",
       "    </tr>\n",
       "    <tr>\n",
       "      <th>4</th>\n",
       "      <td>Rua Tobias Barreto, 195</td>\n",
       "      <td>Mooca</td>\n",
       "      <td>São Paulo</td>\n",
       "      <td>100</td>\n",
       "      <td>3</td>\n",
       "      <td>2</td>\n",
       "      <td>2</td>\n",
       "      <td>R$ 540.000</td>\n",
       "    </tr>\n",
       "    <tr>\n",
       "      <th>5</th>\n",
       "      <td>Rua Graham Bell</td>\n",
       "      <td>Santo Amaro</td>\n",
       "      <td>São Paulo</td>\n",
       "      <td>440</td>\n",
       "      <td>4</td>\n",
       "      <td>4</td>\n",
       "      <td>6</td>\n",
       "      <td>R$ 1.980.000</td>\n",
       "    </tr>\n",
       "  </tbody>\n",
       "</table>\n",
       "</div>"
      ],
      "text/plain": [
       "                              Rua              Bairro     Cidade  Metragem  \\\n",
       "0           Avenida Itacira, 255    Planalto Paulista  São Paulo      1000   \n",
       "1  Rua Aurelia Perez Alvarez, 42   Jardim dos Estados  São Paulo       496   \n",
       "2                 Rua Alba Valdez     Jardim Reimberg  São Paulo       125   \n",
       "4        Rua Tobias Barreto, 195                Mooca  São Paulo       100   \n",
       "5                 Rua Graham Bell         Santo Amaro  São Paulo       440   \n",
       "\n",
       "   Quartos  Banheiros  Vagas         Valor  \n",
       "0        4          8      6  R$ 7.000.000  \n",
       "1        4          4      4  R$ 3.700.000  \n",
       "2        4          3      2    R$ 380.000  \n",
       "4        3          2      2    R$ 540.000  \n",
       "5        4          4      6  R$ 1.980.000  "
      ]
     },
     "execution_count": 8,
     "metadata": {},
     "output_type": "execute_result"
    }
   ],
   "source": [
    "# Keep entries with non-null addresses since these are essential for housing price analysis, and also keys for identifying other missing data. \n",
    "prop_addresses = properties[properties['Rua'].notna()]\n",
    "\n",
    "# Read dataset head\n",
    "prop_addresses.head()"
   ]
  },
  {
   "cell_type": "code",
   "execution_count": 9,
   "metadata": {},
   "outputs": [
    {
     "name": "stderr",
     "output_type": "stream",
     "text": [
      "/tmp/ipykernel_42162/892787468.py:6: SettingWithCopyWarning: \n",
      "A value is trying to be set on a copy of a slice from a DataFrame.\n",
      "Try using .loc[row_indexer,col_indexer] = value instead\n",
      "\n",
      "See the caveats in the documentation: https://pandas.pydata.org/pandas-docs/stable/user_guide/indexing.html#returning-a-view-versus-a-copy\n",
      "  prop_addresses['Rua'] = prop_addresses['Rua'].apply(cleanup_address_number)\n"
     ]
    },
    {
     "data": {
      "text/html": [
       "<div>\n",
       "<style scoped>\n",
       "    .dataframe tbody tr th:only-of-type {\n",
       "        vertical-align: middle;\n",
       "    }\n",
       "\n",
       "    .dataframe tbody tr th {\n",
       "        vertical-align: top;\n",
       "    }\n",
       "\n",
       "    .dataframe thead th {\n",
       "        text-align: right;\n",
       "    }\n",
       "</style>\n",
       "<table border=\"1\" class=\"dataframe\">\n",
       "  <thead>\n",
       "    <tr style=\"text-align: right;\">\n",
       "      <th></th>\n",
       "      <th>Rua</th>\n",
       "      <th>Bairro</th>\n",
       "      <th>Cidade</th>\n",
       "      <th>Metragem</th>\n",
       "      <th>Quartos</th>\n",
       "      <th>Banheiros</th>\n",
       "      <th>Vagas</th>\n",
       "      <th>Valor</th>\n",
       "    </tr>\n",
       "  </thead>\n",
       "  <tbody>\n",
       "    <tr>\n",
       "      <th>0</th>\n",
       "      <td>Avenida Itacira</td>\n",
       "      <td>Planalto Paulista</td>\n",
       "      <td>São Paulo</td>\n",
       "      <td>1000</td>\n",
       "      <td>4</td>\n",
       "      <td>8</td>\n",
       "      <td>6</td>\n",
       "      <td>R$ 7.000.000</td>\n",
       "    </tr>\n",
       "    <tr>\n",
       "      <th>1</th>\n",
       "      <td>Rua Aurelia Perez Alvarez</td>\n",
       "      <td>Jardim dos Estados</td>\n",
       "      <td>São Paulo</td>\n",
       "      <td>496</td>\n",
       "      <td>4</td>\n",
       "      <td>4</td>\n",
       "      <td>4</td>\n",
       "      <td>R$ 3.700.000</td>\n",
       "    </tr>\n",
       "    <tr>\n",
       "      <th>2</th>\n",
       "      <td>Rua Alba Valdez</td>\n",
       "      <td>Jardim Reimberg</td>\n",
       "      <td>São Paulo</td>\n",
       "      <td>125</td>\n",
       "      <td>4</td>\n",
       "      <td>3</td>\n",
       "      <td>2</td>\n",
       "      <td>R$ 380.000</td>\n",
       "    </tr>\n",
       "    <tr>\n",
       "      <th>4</th>\n",
       "      <td>Rua Tobias Barreto</td>\n",
       "      <td>Mooca</td>\n",
       "      <td>São Paulo</td>\n",
       "      <td>100</td>\n",
       "      <td>3</td>\n",
       "      <td>2</td>\n",
       "      <td>2</td>\n",
       "      <td>R$ 540.000</td>\n",
       "    </tr>\n",
       "    <tr>\n",
       "      <th>5</th>\n",
       "      <td>Rua Graham Bell</td>\n",
       "      <td>Santo Amaro</td>\n",
       "      <td>São Paulo</td>\n",
       "      <td>440</td>\n",
       "      <td>4</td>\n",
       "      <td>4</td>\n",
       "      <td>6</td>\n",
       "      <td>R$ 1.980.000</td>\n",
       "    </tr>\n",
       "  </tbody>\n",
       "</table>\n",
       "</div>"
      ],
      "text/plain": [
       "                         Rua              Bairro     Cidade  Metragem  \\\n",
       "0            Avenida Itacira   Planalto Paulista  São Paulo      1000   \n",
       "1  Rua Aurelia Perez Alvarez  Jardim dos Estados  São Paulo       496   \n",
       "2            Rua Alba Valdez     Jardim Reimberg  São Paulo       125   \n",
       "4         Rua Tobias Barreto               Mooca  São Paulo       100   \n",
       "5            Rua Graham Bell         Santo Amaro  São Paulo       440   \n",
       "\n",
       "   Quartos  Banheiros  Vagas         Valor  \n",
       "0        4          8      6  R$ 7.000.000  \n",
       "1        4          4      4  R$ 3.700.000  \n",
       "2        4          3      2    R$ 380.000  \n",
       "4        3          2      2    R$ 540.000  \n",
       "5        4          4      6  R$ 1.980.000  "
      ]
     },
     "execution_count": 9,
     "metadata": {},
     "output_type": "execute_result"
    }
   ],
   "source": [
    "# Create function to remove house numbers to prevent home identification and preserve private information\n",
    "def cleanup_address_number(address):\n",
    "    return re.sub(r'[0-9]+', '', address).replace(',', '').strip()\n",
    "     \n",
    "# Apply string formatting function to the column 'Rua'\n",
    "prop_addresses['Rua'] = prop_addresses['Rua'].apply(cleanup_address_number)\n",
    "\n",
    "# Validate transformation\n",
    "prop_addresses.head()"
   ]
  },
  {
   "attachments": {},
   "cell_type": "markdown",
   "metadata": {},
   "source": [
    "### Validation of column 'Bairro'"
   ]
  },
  {
   "cell_type": "code",
   "execution_count": 10,
   "metadata": {},
   "outputs": [
    {
     "data": {
      "text/plain": [
       "['Rua Madalena de Morais',\n",
       " 'Rua Vergueiro',\n",
       " 'Rua Alvorada do Sul',\n",
       " 'Rua Professor Eduardo Monteiro',\n",
       " 'Avenida Comendador Adibo Ares',\n",
       " 'Rua Santo Eufredo',\n",
       " 'Rua Professor Lúcio Martins Rodrigues',\n",
       " 'Rua Pacobá']"
      ]
     },
     "execution_count": 10,
     "metadata": {},
     "output_type": "execute_result"
    }
   ],
   "source": [
    "# Get a list of addresses with null wards\n",
    "prop_ward_missing = prop_addresses[prop_addresses['Bairro'].isna()]\n",
    "addresses = prop_ward_missing['Rua'].unique().tolist()\n",
    "addresses"
   ]
  },
  {
   "cell_type": "code",
   "execution_count": 11,
   "metadata": {},
   "outputs": [
    {
     "name": "stderr",
     "output_type": "stream",
     "text": [
      "/tmp/ipykernel_42162/228398945.py:2: UserWarning: Boolean Series key will be reindexed to match DataFrame index.\n",
      "  same_address = prop_addresses[prop_addresses['Rua'].isin(addresses)]\\\n"
     ]
    },
    {
     "data": {
      "text/html": [
       "<div>\n",
       "<style scoped>\n",
       "    .dataframe tbody tr th:only-of-type {\n",
       "        vertical-align: middle;\n",
       "    }\n",
       "\n",
       "    .dataframe tbody tr th {\n",
       "        vertical-align: top;\n",
       "    }\n",
       "\n",
       "    .dataframe thead th {\n",
       "        text-align: right;\n",
       "    }\n",
       "</style>\n",
       "<table border=\"1\" class=\"dataframe\">\n",
       "  <thead>\n",
       "    <tr style=\"text-align: right;\">\n",
       "      <th></th>\n",
       "      <th>Rua</th>\n",
       "      <th>Bairro</th>\n",
       "      <th>Cidade</th>\n",
       "      <th>Metragem</th>\n",
       "      <th>Quartos</th>\n",
       "      <th>Banheiros</th>\n",
       "      <th>Vagas</th>\n",
       "      <th>Valor</th>\n",
       "    </tr>\n",
       "  </thead>\n",
       "  <tbody>\n",
       "    <tr>\n",
       "      <th>343</th>\n",
       "      <td>Avenida Comendador Adibo Ares</td>\n",
       "      <td>Morumbi</td>\n",
       "      <td>São Paulo</td>\n",
       "      <td>686</td>\n",
       "      <td>5</td>\n",
       "      <td>6</td>\n",
       "      <td>5</td>\n",
       "      <td>R$ 3.350.000</td>\n",
       "    </tr>\n",
       "    <tr>\n",
       "      <th>744</th>\n",
       "      <td>Avenida Comendador Adibo Ares</td>\n",
       "      <td>Morumbi</td>\n",
       "      <td>São Paulo</td>\n",
       "      <td>772</td>\n",
       "      <td>4</td>\n",
       "      <td>6</td>\n",
       "      <td>8</td>\n",
       "      <td>R$ 4.100.000</td>\n",
       "    </tr>\n",
       "    <tr>\n",
       "      <th>862</th>\n",
       "      <td>Avenida Comendador Adibo Ares</td>\n",
       "      <td>Morumbi</td>\n",
       "      <td>São Paulo</td>\n",
       "      <td>450</td>\n",
       "      <td>4</td>\n",
       "      <td>5</td>\n",
       "      <td>6</td>\n",
       "      <td>R$ 1.800.000</td>\n",
       "    </tr>\n",
       "    <tr>\n",
       "      <th>892</th>\n",
       "      <td>Avenida Comendador Adibo Ares</td>\n",
       "      <td>Morumbi</td>\n",
       "      <td>São Paulo</td>\n",
       "      <td>455</td>\n",
       "      <td>4</td>\n",
       "      <td>5</td>\n",
       "      <td>6</td>\n",
       "      <td>R$ 1.800.000</td>\n",
       "    </tr>\n",
       "    <tr>\n",
       "      <th>4876</th>\n",
       "      <td>Avenida Comendador Adibo Ares</td>\n",
       "      <td>Morumbi</td>\n",
       "      <td>São Paulo</td>\n",
       "      <td>900</td>\n",
       "      <td>3</td>\n",
       "      <td>6</td>\n",
       "      <td>8</td>\n",
       "      <td>R$ 7.700.000</td>\n",
       "    </tr>\n",
       "    <tr>\n",
       "      <th>5794</th>\n",
       "      <td>Avenida Comendador Adibo Ares</td>\n",
       "      <td>Morumbi</td>\n",
       "      <td>São Paulo</td>\n",
       "      <td>1000</td>\n",
       "      <td>5</td>\n",
       "      <td>5</td>\n",
       "      <td>4</td>\n",
       "      <td>R$ 3.350.000</td>\n",
       "    </tr>\n",
       "    <tr>\n",
       "      <th>5953</th>\n",
       "      <td>Avenida Comendador Adibo Ares</td>\n",
       "      <td>Morumbi</td>\n",
       "      <td>São Paulo</td>\n",
       "      <td>1005</td>\n",
       "      <td>5</td>\n",
       "      <td>5</td>\n",
       "      <td>4</td>\n",
       "      <td>R$ 3.350.000</td>\n",
       "    </tr>\n",
       "    <tr>\n",
       "      <th>9527</th>\n",
       "      <td>Avenida Comendador Adibo Ares</td>\n",
       "      <td>Morumbi</td>\n",
       "      <td>São Paulo</td>\n",
       "      <td>1000</td>\n",
       "      <td>5</td>\n",
       "      <td>8</td>\n",
       "      <td>6</td>\n",
       "      <td>R$ 3.350.000</td>\n",
       "    </tr>\n",
       "    <tr>\n",
       "      <th>1738</th>\n",
       "      <td>Rua Alvorada do Sul</td>\n",
       "      <td>Jardim Guedala</td>\n",
       "      <td>São Paulo</td>\n",
       "      <td>520</td>\n",
       "      <td>4</td>\n",
       "      <td>5</td>\n",
       "      <td>3</td>\n",
       "      <td>R$ 1.890.000</td>\n",
       "    </tr>\n",
       "    <tr>\n",
       "      <th>3174</th>\n",
       "      <td>Rua Alvorada do Sul</td>\n",
       "      <td>Jardim Guedala</td>\n",
       "      <td>São Paulo</td>\n",
       "      <td>496</td>\n",
       "      <td>4</td>\n",
       "      <td>4</td>\n",
       "      <td>3</td>\n",
       "      <td>R$ 14.000\\n                      /Mês</td>\n",
       "    </tr>\n",
       "    <tr>\n",
       "      <th>6362</th>\n",
       "      <td>Rua Alvorada do Sul</td>\n",
       "      <td>Jardim Guedala</td>\n",
       "      <td>São Paulo</td>\n",
       "      <td>777</td>\n",
       "      <td>4</td>\n",
       "      <td>6</td>\n",
       "      <td>4</td>\n",
       "      <td>R$ 8.500.000</td>\n",
       "    </tr>\n",
       "    <tr>\n",
       "      <th>6448</th>\n",
       "      <td>Rua Alvorada do Sul</td>\n",
       "      <td>Jardim Guedala</td>\n",
       "      <td>São Paulo</td>\n",
       "      <td>330</td>\n",
       "      <td>4</td>\n",
       "      <td>5</td>\n",
       "      <td>2</td>\n",
       "      <td>R$ 2.900.000</td>\n",
       "    </tr>\n",
       "    <tr>\n",
       "      <th>8544</th>\n",
       "      <td>Rua Alvorada do Sul</td>\n",
       "      <td>Jardim Guedala</td>\n",
       "      <td>São Paulo</td>\n",
       "      <td>450</td>\n",
       "      <td>4</td>\n",
       "      <td>9</td>\n",
       "      <td>4</td>\n",
       "      <td>R$ 3.100.000</td>\n",
       "    </tr>\n",
       "    <tr>\n",
       "      <th>9912</th>\n",
       "      <td>Rua Alvorada do Sul</td>\n",
       "      <td>Jardim Guedala</td>\n",
       "      <td>São Paulo</td>\n",
       "      <td>600</td>\n",
       "      <td>5</td>\n",
       "      <td>7</td>\n",
       "      <td>5</td>\n",
       "      <td>R$ 8.000.000</td>\n",
       "    </tr>\n",
       "    <tr>\n",
       "      <th>9948</th>\n",
       "      <td>Rua Alvorada do Sul</td>\n",
       "      <td>Jardim Guedala</td>\n",
       "      <td>São Paulo</td>\n",
       "      <td>605</td>\n",
       "      <td>5</td>\n",
       "      <td>7</td>\n",
       "      <td>5</td>\n",
       "      <td>R$ 8.000.000</td>\n",
       "    </tr>\n",
       "    <tr>\n",
       "      <th>9984</th>\n",
       "      <td>Rua Alvorada do Sul</td>\n",
       "      <td>Jardim Guedala</td>\n",
       "      <td>São Paulo</td>\n",
       "      <td>605</td>\n",
       "      <td>5</td>\n",
       "      <td>7</td>\n",
       "      <td>5</td>\n",
       "      <td>R$ 8.000.000</td>\n",
       "    </tr>\n",
       "    <tr>\n",
       "      <th>1333</th>\n",
       "      <td>Rua Madalena de Morais</td>\n",
       "      <td>Jardim Leonor</td>\n",
       "      <td>São Paulo</td>\n",
       "      <td>950</td>\n",
       "      <td>4</td>\n",
       "      <td>3</td>\n",
       "      <td>4</td>\n",
       "      <td>R$ 4.000.000</td>\n",
       "    </tr>\n",
       "    <tr>\n",
       "      <th>3155</th>\n",
       "      <td>Rua Madalena de Morais</td>\n",
       "      <td>Jardim Leonor</td>\n",
       "      <td>São Paulo</td>\n",
       "      <td>800</td>\n",
       "      <td>5</td>\n",
       "      <td>8</td>\n",
       "      <td>6</td>\n",
       "      <td>R$ 8.000.000</td>\n",
       "    </tr>\n",
       "    <tr>\n",
       "      <th>7458</th>\n",
       "      <td>Rua Madalena de Morais</td>\n",
       "      <td>Jardim Leonor</td>\n",
       "      <td>São Paulo</td>\n",
       "      <td>726</td>\n",
       "      <td>4</td>\n",
       "      <td>8</td>\n",
       "      <td>9</td>\n",
       "      <td>R$ 4.500.000</td>\n",
       "    </tr>\n",
       "    <tr>\n",
       "      <th>705</th>\n",
       "      <td>Rua Pacobá</td>\n",
       "      <td>Jardim Panorama</td>\n",
       "      <td>São Paulo</td>\n",
       "      <td>639</td>\n",
       "      <td>4</td>\n",
       "      <td>6</td>\n",
       "      <td>4</td>\n",
       "      <td>R$ 3.500.000</td>\n",
       "    </tr>\n",
       "    <tr>\n",
       "      <th>842</th>\n",
       "      <td>Rua Pacobá</td>\n",
       "      <td>Jardim Panorama</td>\n",
       "      <td>São Paulo</td>\n",
       "      <td>751</td>\n",
       "      <td>4</td>\n",
       "      <td>4</td>\n",
       "      <td>6</td>\n",
       "      <td>R$ 3.500.000</td>\n",
       "    </tr>\n",
       "    <tr>\n",
       "      <th>2005</th>\n",
       "      <td>Rua Pacobá</td>\n",
       "      <td>Jardim Panorama</td>\n",
       "      <td>São Paulo</td>\n",
       "      <td>639</td>\n",
       "      <td>4</td>\n",
       "      <td>2</td>\n",
       "      <td>4</td>\n",
       "      <td>R$ 4.000.000</td>\n",
       "    </tr>\n",
       "    <tr>\n",
       "      <th>9826</th>\n",
       "      <td>Rua Pacobá</td>\n",
       "      <td>Jardim Panorama</td>\n",
       "      <td>São Paulo</td>\n",
       "      <td>503</td>\n",
       "      <td>4</td>\n",
       "      <td>9</td>\n",
       "      <td>4</td>\n",
       "      <td>R$ 13.000\\n                      /Mês</td>\n",
       "    </tr>\n",
       "    <tr>\n",
       "      <th>6093</th>\n",
       "      <td>Rua Professor Eduardo Monteiro</td>\n",
       "      <td>Jardim Leonor</td>\n",
       "      <td>São Paulo</td>\n",
       "      <td>262</td>\n",
       "      <td>6</td>\n",
       "      <td>8</td>\n",
       "      <td>4</td>\n",
       "      <td>R$ 1.295.000</td>\n",
       "    </tr>\n",
       "    <tr>\n",
       "      <th>8508</th>\n",
       "      <td>Rua Professor Eduardo Monteiro</td>\n",
       "      <td>Jardim Leonor</td>\n",
       "      <td>São Paulo</td>\n",
       "      <td>640</td>\n",
       "      <td>4</td>\n",
       "      <td>6</td>\n",
       "      <td>4</td>\n",
       "      <td>R$ 4.390.000</td>\n",
       "    </tr>\n",
       "    <tr>\n",
       "      <th>1510</th>\n",
       "      <td>Rua Santo Eufredo</td>\n",
       "      <td>Jardim Guedala</td>\n",
       "      <td>São Paulo</td>\n",
       "      <td>780</td>\n",
       "      <td>4</td>\n",
       "      <td>7</td>\n",
       "      <td>20</td>\n",
       "      <td>R$ 5.400.000</td>\n",
       "    </tr>\n",
       "    <tr>\n",
       "      <th>5004</th>\n",
       "      <td>Rua Santo Eufredo</td>\n",
       "      <td>Jardim Guedala</td>\n",
       "      <td>São Paulo</td>\n",
       "      <td>763</td>\n",
       "      <td>4</td>\n",
       "      <td>5</td>\n",
       "      <td>5</td>\n",
       "      <td>R$ 5.400.000</td>\n",
       "    </tr>\n",
       "    <tr>\n",
       "      <th>5054</th>\n",
       "      <td>Rua Santo Eufredo</td>\n",
       "      <td>Jardim Guedala</td>\n",
       "      <td>São Paulo</td>\n",
       "      <td>768</td>\n",
       "      <td>4</td>\n",
       "      <td>5</td>\n",
       "      <td>5</td>\n",
       "      <td>R$ 5.400.000</td>\n",
       "    </tr>\n",
       "    <tr>\n",
       "      <th>5647</th>\n",
       "      <td>Rua Santo Eufredo</td>\n",
       "      <td>Jardim Guedala</td>\n",
       "      <td>São Paulo</td>\n",
       "      <td>768</td>\n",
       "      <td>4</td>\n",
       "      <td>5</td>\n",
       "      <td>5</td>\n",
       "      <td>R$ 5.400.000</td>\n",
       "    </tr>\n",
       "    <tr>\n",
       "      <th>203</th>\n",
       "      <td>Rua Vergueiro</td>\n",
       "      <td>Cursino</td>\n",
       "      <td>São Paulo</td>\n",
       "      <td>113</td>\n",
       "      <td>3</td>\n",
       "      <td>2</td>\n",
       "      <td>2</td>\n",
       "      <td>R$ 570.000</td>\n",
       "    </tr>\n",
       "    <tr>\n",
       "      <th>3211</th>\n",
       "      <td>Rua Vergueiro</td>\n",
       "      <td>Vila Firmiano Pinto</td>\n",
       "      <td>São Paulo</td>\n",
       "      <td>131</td>\n",
       "      <td>1</td>\n",
       "      <td>1</td>\n",
       "      <td>1</td>\n",
       "      <td>R$ 640.000</td>\n",
       "    </tr>\n",
       "  </tbody>\n",
       "</table>\n",
       "</div>"
      ],
      "text/plain": [
       "                                 Rua               Bairro     Cidade  \\\n",
       "343    Avenida Comendador Adibo Ares              Morumbi  São Paulo   \n",
       "744    Avenida Comendador Adibo Ares              Morumbi  São Paulo   \n",
       "862    Avenida Comendador Adibo Ares              Morumbi  São Paulo   \n",
       "892    Avenida Comendador Adibo Ares              Morumbi  São Paulo   \n",
       "4876   Avenida Comendador Adibo Ares              Morumbi  São Paulo   \n",
       "5794   Avenida Comendador Adibo Ares              Morumbi  São Paulo   \n",
       "5953   Avenida Comendador Adibo Ares              Morumbi  São Paulo   \n",
       "9527   Avenida Comendador Adibo Ares              Morumbi  São Paulo   \n",
       "1738             Rua Alvorada do Sul       Jardim Guedala  São Paulo   \n",
       "3174             Rua Alvorada do Sul       Jardim Guedala  São Paulo   \n",
       "6362             Rua Alvorada do Sul       Jardim Guedala  São Paulo   \n",
       "6448             Rua Alvorada do Sul       Jardim Guedala  São Paulo   \n",
       "8544             Rua Alvorada do Sul       Jardim Guedala  São Paulo   \n",
       "9912             Rua Alvorada do Sul       Jardim Guedala  São Paulo   \n",
       "9948             Rua Alvorada do Sul       Jardim Guedala  São Paulo   \n",
       "9984             Rua Alvorada do Sul       Jardim Guedala  São Paulo   \n",
       "1333          Rua Madalena de Morais        Jardim Leonor  São Paulo   \n",
       "3155          Rua Madalena de Morais        Jardim Leonor  São Paulo   \n",
       "7458          Rua Madalena de Morais        Jardim Leonor  São Paulo   \n",
       "705                       Rua Pacobá      Jardim Panorama  São Paulo   \n",
       "842                       Rua Pacobá      Jardim Panorama  São Paulo   \n",
       "2005                      Rua Pacobá      Jardim Panorama  São Paulo   \n",
       "9826                      Rua Pacobá      Jardim Panorama  São Paulo   \n",
       "6093  Rua Professor Eduardo Monteiro        Jardim Leonor  São Paulo   \n",
       "8508  Rua Professor Eduardo Monteiro        Jardim Leonor  São Paulo   \n",
       "1510               Rua Santo Eufredo       Jardim Guedala  São Paulo   \n",
       "5004               Rua Santo Eufredo       Jardim Guedala  São Paulo   \n",
       "5054               Rua Santo Eufredo       Jardim Guedala  São Paulo   \n",
       "5647               Rua Santo Eufredo       Jardim Guedala  São Paulo   \n",
       "203                    Rua Vergueiro              Cursino  São Paulo   \n",
       "3211                   Rua Vergueiro  Vila Firmiano Pinto  São Paulo   \n",
       "\n",
       "      Metragem  Quartos  Banheiros  Vagas  \\\n",
       "343        686        5          6      5   \n",
       "744        772        4          6      8   \n",
       "862        450        4          5      6   \n",
       "892        455        4          5      6   \n",
       "4876       900        3          6      8   \n",
       "5794      1000        5          5      4   \n",
       "5953      1005        5          5      4   \n",
       "9527      1000        5          8      6   \n",
       "1738       520        4          5      3   \n",
       "3174       496        4          4      3   \n",
       "6362       777        4          6      4   \n",
       "6448       330        4          5      2   \n",
       "8544       450        4          9      4   \n",
       "9912       600        5          7      5   \n",
       "9948       605        5          7      5   \n",
       "9984       605        5          7      5   \n",
       "1333       950        4          3      4   \n",
       "3155       800        5          8      6   \n",
       "7458       726        4          8      9   \n",
       "705        639        4          6      4   \n",
       "842        751        4          4      6   \n",
       "2005       639        4          2      4   \n",
       "9826       503        4          9      4   \n",
       "6093       262        6          8      4   \n",
       "8508       640        4          6      4   \n",
       "1510       780        4          7     20   \n",
       "5004       763        4          5      5   \n",
       "5054       768        4          5      5   \n",
       "5647       768        4          5      5   \n",
       "203        113        3          2      2   \n",
       "3211       131        1          1      1   \n",
       "\n",
       "                                      Valor  \n",
       "343                            R$ 3.350.000  \n",
       "744                            R$ 4.100.000  \n",
       "862                            R$ 1.800.000  \n",
       "892                            R$ 1.800.000  \n",
       "4876                           R$ 7.700.000  \n",
       "5794                           R$ 3.350.000  \n",
       "5953                           R$ 3.350.000  \n",
       "9527                           R$ 3.350.000  \n",
       "1738                           R$ 1.890.000  \n",
       "3174  R$ 14.000\\n                      /Mês  \n",
       "6362                           R$ 8.500.000  \n",
       "6448                           R$ 2.900.000  \n",
       "8544                           R$ 3.100.000  \n",
       "9912                           R$ 8.000.000  \n",
       "9948                           R$ 8.000.000  \n",
       "9984                           R$ 8.000.000  \n",
       "1333                           R$ 4.000.000  \n",
       "3155                           R$ 8.000.000  \n",
       "7458                           R$ 4.500.000  \n",
       "705                            R$ 3.500.000  \n",
       "842                            R$ 3.500.000  \n",
       "2005                           R$ 4.000.000  \n",
       "9826  R$ 13.000\\n                      /Mês  \n",
       "6093                           R$ 1.295.000  \n",
       "8508                           R$ 4.390.000  \n",
       "1510                           R$ 5.400.000  \n",
       "5004                           R$ 5.400.000  \n",
       "5054                           R$ 5.400.000  \n",
       "5647                           R$ 5.400.000  \n",
       "203                              R$ 570.000  \n",
       "3211                             R$ 640.000  "
      ]
     },
     "execution_count": 11,
     "metadata": {},
     "output_type": "execute_result"
    }
   ],
   "source": [
    "# Lookup for properties in the same addresses within the dataset\n",
    "same_address = prop_addresses[prop_addresses['Rua'].isin(addresses)]\\\n",
    "                             [prop_addresses['Bairro'].notna()]\\\n",
    "                             .sort_values(['Rua', 'Bairro'])\n",
    "same_address"
   ]
  },
  {
   "cell_type": "code",
   "execution_count": 12,
   "metadata": {},
   "outputs": [
    {
     "name": "stdout",
     "output_type": "stream",
     "text": [
      "Avenida Comendador Adibo Ares : Morumbi\n",
      "Rua Alvorada do Sul : Jardim Guedala\n",
      "Rua Madalena de Morais : Jardim Leonor\n",
      "Rua Pacobá : Jardim Panorama\n",
      "Rua Professor Eduardo Monteiro : Jardim Leonor\n",
      "Rua Santo Eufredo : Jardim Guedala\n",
      "Rua Vergueiro : Vila Firmiano Pinto\n",
      "Rua Professor Lúcio Martins Rodrigues : Morumbi\n"
     ]
    }
   ],
   "source": [
    "# Create a dictionary of addresses and wards\n",
    "full_address = dict(zip(same_address['Rua'], same_address['Bairro']))\n",
    "full_address['Rua Professor Lúcio Martins Rodrigues'] = 'Morumbi'   # Added after Google search\n",
    "\n",
    "for address, ward in full_address.items():\n",
    "  print(address, ':', ward)"
   ]
  },
  {
   "cell_type": "code",
   "execution_count": 13,
   "metadata": {},
   "outputs": [
    {
     "name": "stdout",
     "output_type": "stream",
     "text": [
      "<class 'pandas.core.frame.DataFrame'>\n",
      "Int64Index: 6574 entries, 0 to 10007\n",
      "Data columns (total 8 columns):\n",
      " #   Column     Non-Null Count  Dtype \n",
      "---  ------     --------------  ----- \n",
      " 0   Rua        6574 non-null   object\n",
      " 1   Bairro     6574 non-null   object\n",
      " 2   Cidade     6574 non-null   object\n",
      " 3   Metragem   6574 non-null   int64 \n",
      " 4   Quartos    6574 non-null   int64 \n",
      " 5   Banheiros  6574 non-null   int64 \n",
      " 6   Vagas      6574 non-null   int64 \n",
      " 7   Valor      6574 non-null   object\n",
      "dtypes: int64(4), object(4)\n",
      "memory usage: 720.3+ KB\n"
     ]
    },
    {
     "name": "stderr",
     "output_type": "stream",
     "text": [
      "/tmp/ipykernel_42162/1203612893.py:2: SettingWithCopyWarning: \n",
      "A value is trying to be set on a copy of a slice from a DataFrame.\n",
      "Try using .loc[row_indexer,col_indexer] = value instead\n",
      "\n",
      "See the caveats in the documentation: https://pandas.pydata.org/pandas-docs/stable/user_guide/indexing.html#returning-a-view-versus-a-copy\n",
      "  prop_addresses['Bairro'] = prop_addresses['Bairro'].fillna(prop_addresses['Rua'].apply(lambda x: full_address.get(x)))\n"
     ]
    }
   ],
   "source": [
    "# Fill in ward missing values based on dictionary of full addresses\n",
    "prop_addresses['Bairro'] = prop_addresses['Bairro'].fillna(prop_addresses['Rua'].apply(lambda x: full_address.get(x)))\n",
    "\n",
    "# Input validation\n",
    "prop_addresses.info()"
   ]
  },
  {
   "attachments": {},
   "cell_type": "markdown",
   "metadata": {},
   "source": [
    "### Validation of column 'Cidade'"
   ]
  },
  {
   "cell_type": "code",
   "execution_count": 14,
   "metadata": {},
   "outputs": [
    {
     "data": {
      "text/plain": [
       "São Paulo    6574\n",
       "Name: Cidade, dtype: int64"
      ]
     },
     "execution_count": 14,
     "metadata": {},
     "output_type": "execute_result"
    }
   ],
   "source": [
    "# Validate column 'Cidade'\n",
    "prop_addresses['Cidade'].value_counts()"
   ]
  },
  {
   "attachments": {},
   "cell_type": "markdown",
   "metadata": {},
   "source": [
    "### Validation of column 'Metragem'"
   ]
  },
  {
   "cell_type": "code",
   "execution_count": 15,
   "metadata": {},
   "outputs": [
    {
     "data": {
      "text/plain": [
       "count      6574.000000\n",
       "mean        456.056891\n",
       "std        9260.689737\n",
       "min          10.000000\n",
       "25%         165.000000\n",
       "50%         264.000000\n",
       "75%         425.000000\n",
       "max      750000.000000\n",
       "Name: Metragem, dtype: float64"
      ]
     },
     "execution_count": 15,
     "metadata": {},
     "output_type": "execute_result"
    }
   ],
   "source": [
    "# Check summary statistics\n",
    "prop_addresses['Metragem'].describe()"
   ]
  },
  {
   "cell_type": "code",
   "execution_count": 16,
   "metadata": {},
   "outputs": [
    {
     "data": {
      "image/png": "[encoded data removed]",
      "text/plain": [
       "<Figure size 576x432 with 1 Axes>"
      ]
     },
     "metadata": {
      "needs_background": "light"
     },
     "output_type": "display_data"
    }
   ],
   "source": [
    "# Boxplot of Property Areas\n",
    "plt.figure(figsize=(8,6))\n",
    "sns.set_style('darkgrid')\n",
    "sns.boxplot(x='Metragem', data=prop_addresses).set(title = 'Boxplot of Property Areas', xlabel='Property Areas (sqm)')\n",
    "plt.show()"
   ]
  },
  {
   "attachments": {},
   "cell_type": "markdown",
   "metadata": {},
   "source": [
    "Summary statistics reveal right skewed data with the existence of extreme outliers (values which lie more than 3.0 times the interquartile range above the third quartile), therefore IQR based filtering was adopted to remove them."
   ]
  },
  {
   "cell_type": "code",
   "execution_count": 17,
   "metadata": {},
   "outputs": [],
   "source": [
    "# Create a function to remove outliers from continuous data\n",
    "\n",
    "def continuous_iqr_range_outlier_removal(data, col):\n",
    "    Q1 = data[col].quantile(0.25)\n",
    "    Q3 = data[col].quantile(0.75)\n",
    "    IQR = Q3 - Q1\n",
    "\n",
    "    LCL = Q1 - 1.5 * IQR\n",
    "    print('Lower Limit:', LCL)\n",
    "    UCL = Q3 + 1.5 * IQR\n",
    "    print('Upper Limit:', UCL)\n",
    "    \n",
    "    outlier_free_list = [x for x in data[col] if ((x >= LCL) & (x <= UCL))]\n",
    "    filtered_data = data.loc[data[col].isin(outlier_free_list)]\n",
    "\n",
    "    return filtered_data"
   ]
  },
  {
   "cell_type": "code",
   "execution_count": 18,
   "metadata": {},
   "outputs": [
    {
     "name": "stdout",
     "output_type": "stream",
     "text": [
      "Lower Limit: -225.0\n",
      "Upper Limit: 815.0\n"
     ]
    },
    {
     "data": {
      "image/png": "[encoded data removed]",
      "text/plain": [
       "<Figure size 576x432 with 1 Axes>"
      ]
     },
     "metadata": {},
     "output_type": "display_data"
    },
    {
     "data": {
      "image/png": "[encoded data removed]",
      "text/plain": [
       "<Figure size 576x432 with 1 Axes>"
      ]
     },
     "metadata": {},
     "output_type": "display_data"
    }
   ],
   "source": [
    "# Apply continuous outlier removal function to the column 'Metragem'\n",
    "prop_areas = continuous_iqr_range_outlier_removal(prop_addresses, 'Metragem')\n",
    "\n",
    "# Histogram of Property Areas\n",
    "plt.figure(figsize=(8,6))\n",
    "sns.set_style('darkgrid')\n",
    "sns.histplot(x='Metragem', data=prop_areas, kde=True).set(title = 'Sao Paulo Property Areas', xlabel='Property Areas (sqm)', ylabel='Counts')\n",
    "plt.show()\n",
    "\n",
    "# Boxplot of Property Areas\n",
    "plt.figure(figsize=(8,6))\n",
    "sns.boxplot(x='Metragem', data=prop_areas).set(title = 'Boxplot of Sao Paulo Property Areas', xlabel='Property Areas (sqm)')\n",
    "plt.show()"
   ]
  },
  {
   "attachments": {},
   "cell_type": "markdown",
   "metadata": {},
   "source": [
    "### Validation of column 'Quartos'"
   ]
  },
  {
   "cell_type": "code",
   "execution_count": 19,
   "metadata": {},
   "outputs": [
    {
     "data": {
      "text/plain": [
       "count    6253.00000\n",
       "mean        3.37438\n",
       "std         1.02094\n",
       "min         1.00000\n",
       "25%         3.00000\n",
       "50%         3.00000\n",
       "75%         4.00000\n",
       "max        16.00000\n",
       "Name: Quartos, dtype: float64"
      ]
     },
     "execution_count": 19,
     "metadata": {},
     "output_type": "execute_result"
    }
   ],
   "source": [
    "# Check summary statistics\n",
    "prop_areas['Quartos'].describe()"
   ]
  },
  {
   "cell_type": "code",
   "execution_count": 20,
   "metadata": {},
   "outputs": [
    {
     "data": {
      "image/png": "[encoded data removed]",
      "text/plain": [
       "<Figure size 576x432 with 1 Axes>"
      ]
     },
     "metadata": {},
     "output_type": "display_data"
    }
   ],
   "source": [
    "# Countplot of Property Types by Number of Bedrooms\n",
    "plt.figure(figsize=(8,6))\n",
    "sns.countplot(x='Quartos', data=prop_areas).set(title = 'Property Types by Number of Bedrooms', xlabel='Bedrooms', ylabel='Counts')\n",
    "plt.show()"
   ]
  },
  {
   "cell_type": "code",
   "execution_count": 21,
   "metadata": {},
   "outputs": [],
   "source": [
    "# Create a function to remove outliers from discrete data\n",
    "\n",
    "def discrete_iqr_range_outlier_removal(data, col):\n",
    "    Q1 = data[col].quantile(0.25)\n",
    "    Q3 = data[col].quantile(0.75)\n",
    "    IQR = Q3 - Q1\n",
    "\n",
    "    LCL = Q1 - 1.5 * IQR\n",
    "    if(type(LCL) != int):\n",
    "        LCL = LCL - 0.5 \n",
    "    print('Lower Limit:', LCL)\n",
    "\n",
    "    UCL = Q3 + 1.5 * IQR\n",
    "    if (type(UCL) != int):\n",
    "        UCL = UCL + 0.5\n",
    "    print('Upper Limit:', UCL)\n",
    "\n",
    "    outlier_free_list = [x for x in data[col] if ((x >= LCL) & (x <= UCL))]\n",
    "    filtered_data = data.loc[data[col].isin(outlier_free_list)]\n",
    "\n",
    "    return filtered_data"
   ]
  },
  {
   "cell_type": "code",
   "execution_count": 22,
   "metadata": {},
   "outputs": [
    {
     "name": "stdout",
     "output_type": "stream",
     "text": [
      "Lower Limit: 1.0\n",
      "Upper Limit: 6.0\n"
     ]
    },
    {
     "data": {
      "image/png": "[encoded data removed]",
      "text/plain": [
       "<Figure size 576x432 with 1 Axes>"
      ]
     },
     "metadata": {},
     "output_type": "display_data"
    }
   ],
   "source": [
    "# Apply discrete outlier removal function to the column 'Quartos'\n",
    "prop_beds = discrete_iqr_range_outlier_removal(prop_areas, 'Quartos')\n",
    "\n",
    "# Countplot of Property Types by Number of Bedrooms\n",
    "plt.figure(figsize=(8,6))\n",
    "sns.countplot(x='Quartos', data=prop_beds).set(title = 'Property Types by Number of Bedrooms', xlabel='Bedrooms', ylabel='Counts')\n",
    "plt.show()"
   ]
  },
  {
   "attachments": {},
   "cell_type": "markdown",
   "metadata": {},
   "source": [
    "### Validation of the column 'Banheiros'"
   ]
  },
  {
   "cell_type": "code",
   "execution_count": 23,
   "metadata": {},
   "outputs": [
    {
     "data": {
      "text/plain": [
       "count    6206.000000\n",
       "mean        3.618273\n",
       "std         1.729895\n",
       "min         1.000000\n",
       "25%         2.000000\n",
       "50%         3.000000\n",
       "75%         5.000000\n",
       "max        12.000000\n",
       "Name: Banheiros, dtype: float64"
      ]
     },
     "execution_count": 23,
     "metadata": {},
     "output_type": "execute_result"
    }
   ],
   "source": [
    "# Check summary statistics\n",
    "prop_beds['Banheiros'].describe()"
   ]
  },
  {
   "cell_type": "code",
   "execution_count": 24,
   "metadata": {},
   "outputs": [
    {
     "data": {
      "image/png": "[encoded data removed]",
      "text/plain": [
       "<Figure size 576x432 with 1 Axes>"
      ]
     },
     "metadata": {},
     "output_type": "display_data"
    }
   ],
   "source": [
    "# Countplot of Property Types by Number of Bathrooms\n",
    "plt.figure(figsize=(8,6))\n",
    "sns.countplot(x='Banheiros', data=prop_beds).set(title = 'Property Types by Number of Bathrooms', xlabel='Bathrooms', ylabel='Counts')\n",
    "plt.show()"
   ]
  },
  {
   "cell_type": "code",
   "execution_count": 25,
   "metadata": {},
   "outputs": [
    {
     "name": "stdout",
     "output_type": "stream",
     "text": [
      "Lower Limit: -3.0\n",
      "Upper Limit: 10.0\n"
     ]
    },
    {
     "data": {
      "image/png": "[encoded data removed]",
      "text/plain": [
       "<Figure size 576x432 with 1 Axes>"
      ]
     },
     "metadata": {},
     "output_type": "display_data"
    }
   ],
   "source": [
    "# Apply discrete outlier removal function to the column 'Banheiros'\n",
    "prop_baths = discrete_iqr_range_outlier_removal(prop_beds, 'Banheiros')\n",
    "\n",
    "# Countplot of Property Types by Number of Bathrooms\n",
    "plt.figure(figsize=(8,6))\n",
    "sns.countplot(x='Banheiros', data=prop_baths).set(title = 'Property Types by Number of Bathrooms', xlabel='Bathrooms', ylabel='Counts')\n",
    "plt.show()"
   ]
  },
  {
   "attachments": {},
   "cell_type": "markdown",
   "metadata": {},
   "source": [
    "### Validation of column 'Vagas'"
   ]
  },
  {
   "cell_type": "code",
   "execution_count": 26,
   "metadata": {},
   "outputs": [
    {
     "data": {
      "text/plain": [
       "count    6204.000000\n",
       "mean        3.640232\n",
       "std         2.291261\n",
       "min         1.000000\n",
       "25%         2.000000\n",
       "50%         3.000000\n",
       "75%         5.000000\n",
       "max        50.000000\n",
       "Name: Vagas, dtype: float64"
      ]
     },
     "execution_count": 26,
     "metadata": {},
     "output_type": "execute_result"
    }
   ],
   "source": [
    "# Validation of column 'Vagas'\n",
    "prop_baths['Vagas'].describe()"
   ]
  },
  {
   "cell_type": "code",
   "execution_count": 27,
   "metadata": {},
   "outputs": [
    {
     "data": {
      "image/png": "[encoded data removed]",
      "text/plain": [
       "<Figure size 576x432 with 1 Axes>"
      ]
     },
     "metadata": {},
     "output_type": "display_data"
    }
   ],
   "source": [
    "# Countplot of Property Types by Number of Parking Spaces\n",
    "plt.figure(figsize=(8,6))\n",
    "sns.countplot(x='Vagas', data=prop_baths).set(title = 'Property Types by Number of Parking Spaces', xlabel='Parking Spaces', ylabel='Counts')\n",
    "plt.show()"
   ]
  },
  {
   "cell_type": "code",
   "execution_count": 28,
   "metadata": {},
   "outputs": [
    {
     "name": "stdout",
     "output_type": "stream",
     "text": [
      "Lower Limit: -3.0\n",
      "Upper Limit: 10.0\n"
     ]
    },
    {
     "data": {
      "image/png": "[encoded data removed]",
      "text/plain": [
       "<Figure size 576x432 with 1 Axes>"
      ]
     },
     "metadata": {},
     "output_type": "display_data"
    }
   ],
   "source": [
    "# Apply discrete outlier removal function to the column 'Banheiros'\n",
    "prop_parking = discrete_iqr_range_outlier_removal(prop_baths, 'Vagas')\n",
    "\n",
    "# Countplot of Property Types by Number of Parking Spaces\n",
    "plt.figure(figsize=(8,6))\n",
    "sns.countplot(x='Vagas', data=prop_parking).set(title = 'Property Types by Number of Parking Spaces', xlabel='Parking Spaces', ylabel='Counts')\n",
    "plt.show()"
   ]
  },
  {
   "attachments": {},
   "cell_type": "markdown",
   "metadata": {},
   "source": [
    "### Validation of column 'Valor'"
   ]
  },
  {
   "cell_type": "code",
   "execution_count": 29,
   "metadata": {},
   "outputs": [
    {
     "data": {
      "text/html": [
       "<div>\n",
       "<style scoped>\n",
       "    .dataframe tbody tr th:only-of-type {\n",
       "        vertical-align: middle;\n",
       "    }\n",
       "\n",
       "    .dataframe tbody tr th {\n",
       "        vertical-align: top;\n",
       "    }\n",
       "\n",
       "    .dataframe thead th {\n",
       "        text-align: right;\n",
       "    }\n",
       "</style>\n",
       "<table border=\"1\" class=\"dataframe\">\n",
       "  <thead>\n",
       "    <tr style=\"text-align: right;\">\n",
       "      <th></th>\n",
       "      <th>Rua</th>\n",
       "      <th>Bairro</th>\n",
       "      <th>Cidade</th>\n",
       "      <th>Metragem</th>\n",
       "      <th>Quartos</th>\n",
       "      <th>Banheiros</th>\n",
       "      <th>Vagas</th>\n",
       "      <th>Valor</th>\n",
       "    </tr>\n",
       "  </thead>\n",
       "  <tbody>\n",
       "    <tr>\n",
       "      <th>8427</th>\n",
       "      <td>Rua Fructuoso Viana</td>\n",
       "      <td>Horto Florestal</td>\n",
       "      <td>São Paulo</td>\n",
       "      <td>145</td>\n",
       "      <td>3</td>\n",
       "      <td>3</td>\n",
       "      <td>3</td>\n",
       "      <td>R$ 689.000</td>\n",
       "    </tr>\n",
       "    <tr>\n",
       "      <th>3507</th>\n",
       "      <td>Rua Carataca</td>\n",
       "      <td>Vila Gustavo</td>\n",
       "      <td>São Paulo</td>\n",
       "      <td>120</td>\n",
       "      <td>2</td>\n",
       "      <td>3</td>\n",
       "      <td>1</td>\n",
       "      <td>R$ 570.000</td>\n",
       "    </tr>\n",
       "    <tr>\n",
       "      <th>9446</th>\n",
       "      <td>Rua Cláudio Rossi</td>\n",
       "      <td>Jardim da Glória</td>\n",
       "      <td>São Paulo</td>\n",
       "      <td>393</td>\n",
       "      <td>4</td>\n",
       "      <td>6</td>\n",
       "      <td>4</td>\n",
       "      <td>R$ 2.300.000</td>\n",
       "    </tr>\n",
       "    <tr>\n",
       "      <th>738</th>\n",
       "      <td>Rua Canadá</td>\n",
       "      <td>Jardim América</td>\n",
       "      <td>São Paulo</td>\n",
       "      <td>675</td>\n",
       "      <td>4</td>\n",
       "      <td>5</td>\n",
       "      <td>6</td>\n",
       "      <td>R$ 27.000.000</td>\n",
       "    </tr>\n",
       "    <tr>\n",
       "      <th>273</th>\n",
       "      <td>Rua Califórnia</td>\n",
       "      <td>Cidade Monções</td>\n",
       "      <td>São Paulo</td>\n",
       "      <td>120</td>\n",
       "      <td>4</td>\n",
       "      <td>3</td>\n",
       "      <td>2</td>\n",
       "      <td>R$ 780.000</td>\n",
       "    </tr>\n",
       "    <tr>\n",
       "      <th>876</th>\n",
       "      <td>Rua Barajuba</td>\n",
       "      <td>Alto de Pinheiros</td>\n",
       "      <td>São Paulo</td>\n",
       "      <td>350</td>\n",
       "      <td>4</td>\n",
       "      <td>4</td>\n",
       "      <td>4</td>\n",
       "      <td>R$ 3.750.000</td>\n",
       "    </tr>\n",
       "    <tr>\n",
       "      <th>4620</th>\n",
       "      <td>Rua Rino Levi</td>\n",
       "      <td>Jardim da Glória</td>\n",
       "      <td>São Paulo</td>\n",
       "      <td>368</td>\n",
       "      <td>4</td>\n",
       "      <td>6</td>\n",
       "      <td>3</td>\n",
       "      <td>R$ 12.000\\n                      /Mês</td>\n",
       "    </tr>\n",
       "    <tr>\n",
       "      <th>8692</th>\n",
       "      <td>Rua Luís Reis Santos</td>\n",
       "      <td>Jardim Colonial</td>\n",
       "      <td>São Paulo</td>\n",
       "      <td>80</td>\n",
       "      <td>3</td>\n",
       "      <td>2</td>\n",
       "      <td>3</td>\n",
       "      <td>R$ 450.000</td>\n",
       "    </tr>\n",
       "    <tr>\n",
       "      <th>8955</th>\n",
       "      <td>Rua Rosa Mística</td>\n",
       "      <td>Vila Campestre</td>\n",
       "      <td>São Paulo</td>\n",
       "      <td>125</td>\n",
       "      <td>3</td>\n",
       "      <td>4</td>\n",
       "      <td>2</td>\n",
       "      <td>R$ 530.000</td>\n",
       "    </tr>\n",
       "    <tr>\n",
       "      <th>6345</th>\n",
       "      <td>Rua Professor José Geraldo de Lima</td>\n",
       "      <td>Vila Tiradentes</td>\n",
       "      <td>São Paulo</td>\n",
       "      <td>150</td>\n",
       "      <td>3</td>\n",
       "      <td>3</td>\n",
       "      <td>2</td>\n",
       "      <td>R$ 650.000</td>\n",
       "    </tr>\n",
       "  </tbody>\n",
       "</table>\n",
       "</div>"
      ],
      "text/plain": [
       "                                     Rua             Bairro     Cidade  \\\n",
       "8427                 Rua Fructuoso Viana    Horto Florestal  São Paulo   \n",
       "3507                        Rua Carataca       Vila Gustavo  São Paulo   \n",
       "9446                   Rua Cláudio Rossi   Jardim da Glória  São Paulo   \n",
       "738                           Rua Canadá     Jardim América  São Paulo   \n",
       "273                       Rua Califórnia     Cidade Monções  São Paulo   \n",
       "876                         Rua Barajuba  Alto de Pinheiros  São Paulo   \n",
       "4620                       Rua Rino Levi   Jardim da Glória  São Paulo   \n",
       "8692                Rua Luís Reis Santos    Jardim Colonial  São Paulo   \n",
       "8955                    Rua Rosa Mística     Vila Campestre  São Paulo   \n",
       "6345  Rua Professor José Geraldo de Lima    Vila Tiradentes  São Paulo   \n",
       "\n",
       "      Metragem  Quartos  Banheiros  Vagas  \\\n",
       "8427       145        3          3      3   \n",
       "3507       120        2          3      1   \n",
       "9446       393        4          6      4   \n",
       "738        675        4          5      6   \n",
       "273        120        4          3      2   \n",
       "876        350        4          4      4   \n",
       "4620       368        4          6      3   \n",
       "8692        80        3          2      3   \n",
       "8955       125        3          4      2   \n",
       "6345       150        3          3      2   \n",
       "\n",
       "                                      Valor  \n",
       "8427                             R$ 689.000  \n",
       "3507                             R$ 570.000  \n",
       "9446                           R$ 2.300.000  \n",
       "738                           R$ 27.000.000  \n",
       "273                              R$ 780.000  \n",
       "876                            R$ 3.750.000  \n",
       "4620  R$ 12.000\\n                      /Mês  \n",
       "8692                             R$ 450.000  \n",
       "8955                             R$ 530.000  \n",
       "6345                             R$ 650.000  "
      ]
     },
     "execution_count": 29,
     "metadata": {},
     "output_type": "execute_result"
    }
   ],
   "source": [
    "# Read random sample\n",
    "prop_parking.sample(10, random_state=1)"
   ]
  },
  {
   "cell_type": "code",
   "execution_count": 30,
   "metadata": {},
   "outputs": [
    {
     "name": "stderr",
     "output_type": "stream",
     "text": [
      "/tmp/ipykernel_42162/4166100912.py:2: SettingWithCopyWarning: \n",
      "A value is trying to be set on a copy of a slice from a DataFrame.\n",
      "Try using .loc[row_indexer,col_indexer] = value instead\n",
      "\n",
      "See the caveats in the documentation: https://pandas.pydata.org/pandas-docs/stable/user_guide/indexing.html#returning-a-view-versus-a-copy\n",
      "  prop_parking[['Moeda', 'Valor_Anuncio', 'Tipo_Anuncio']] = prop_parking['Valor'].str.split(expand=True)\n",
      "/tmp/ipykernel_42162/4166100912.py:2: SettingWithCopyWarning: \n",
      "A value is trying to be set on a copy of a slice from a DataFrame.\n",
      "Try using .loc[row_indexer,col_indexer] = value instead\n",
      "\n",
      "See the caveats in the documentation: https://pandas.pydata.org/pandas-docs/stable/user_guide/indexing.html#returning-a-view-versus-a-copy\n",
      "  prop_parking[['Moeda', 'Valor_Anuncio', 'Tipo_Anuncio']] = prop_parking['Valor'].str.split(expand=True)\n",
      "/tmp/ipykernel_42162/4166100912.py:2: SettingWithCopyWarning: \n",
      "A value is trying to be set on a copy of a slice from a DataFrame.\n",
      "Try using .loc[row_indexer,col_indexer] = value instead\n",
      "\n",
      "See the caveats in the documentation: https://pandas.pydata.org/pandas-docs/stable/user_guide/indexing.html#returning-a-view-versus-a-copy\n",
      "  prop_parking[['Moeda', 'Valor_Anuncio', 'Tipo_Anuncio']] = prop_parking['Valor'].str.split(expand=True)\n",
      "/tmp/ipykernel_42162/4166100912.py:8: FutureWarning: The default value of regex will change from True to False in a future version. In addition, single character regular expressions will *not* be treated as literal strings when regex=True.\n",
      "  sale_properties[\"Valor_BRL\"] = sale_properties[\"Valor_Anuncio\"].str.replace(\".\",\"\").astype(float)\n",
      "/tmp/ipykernel_42162/4166100912.py:8: SettingWithCopyWarning: \n",
      "A value is trying to be set on a copy of a slice from a DataFrame.\n",
      "Try using .loc[row_indexer,col_indexer] = value instead\n",
      "\n",
      "See the caveats in the documentation: https://pandas.pydata.org/pandas-docs/stable/user_guide/indexing.html#returning-a-view-versus-a-copy\n",
      "  sale_properties[\"Valor_BRL\"] = sale_properties[\"Valor_Anuncio\"].str.replace(\".\",\"\").astype(float)\n"
     ]
    },
    {
     "data": {
      "text/html": [
       "<div>\n",
       "<style scoped>\n",
       "    .dataframe tbody tr th:only-of-type {\n",
       "        vertical-align: middle;\n",
       "    }\n",
       "\n",
       "    .dataframe tbody tr th {\n",
       "        vertical-align: top;\n",
       "    }\n",
       "\n",
       "    .dataframe thead th {\n",
       "        text-align: right;\n",
       "    }\n",
       "</style>\n",
       "<table border=\"1\" class=\"dataframe\">\n",
       "  <thead>\n",
       "    <tr style=\"text-align: right;\">\n",
       "      <th></th>\n",
       "      <th>Rua</th>\n",
       "      <th>Bairro</th>\n",
       "      <th>Cidade</th>\n",
       "      <th>Metragem</th>\n",
       "      <th>Quartos</th>\n",
       "      <th>Banheiros</th>\n",
       "      <th>Vagas</th>\n",
       "      <th>Valor_BRL</th>\n",
       "    </tr>\n",
       "  </thead>\n",
       "  <tbody>\n",
       "    <tr>\n",
       "      <th>7148</th>\n",
       "      <td>Rua José Alencar Castelo Branco</td>\n",
       "      <td>Siciliano</td>\n",
       "      <td>São Paulo</td>\n",
       "      <td>130</td>\n",
       "      <td>3</td>\n",
       "      <td>3</td>\n",
       "      <td>3</td>\n",
       "      <td>1100000.00</td>\n",
       "    </tr>\n",
       "    <tr>\n",
       "      <th>179</th>\n",
       "      <td>Rua Serenata</td>\n",
       "      <td>Vila Prudente</td>\n",
       "      <td>São Paulo</td>\n",
       "      <td>140</td>\n",
       "      <td>3</td>\n",
       "      <td>3</td>\n",
       "      <td>2</td>\n",
       "      <td>490000.00</td>\n",
       "    </tr>\n",
       "    <tr>\n",
       "      <th>2462</th>\n",
       "      <td>Rua Capital Federal</td>\n",
       "      <td>Sumaré</td>\n",
       "      <td>São Paulo</td>\n",
       "      <td>230</td>\n",
       "      <td>4</td>\n",
       "      <td>2</td>\n",
       "      <td>1</td>\n",
       "      <td>1500000.00</td>\n",
       "    </tr>\n",
       "    <tr>\n",
       "      <th>9739</th>\n",
       "      <td>Rua Luís Sérgio Person</td>\n",
       "      <td>Parque Mandaqui</td>\n",
       "      <td>São Paulo</td>\n",
       "      <td>144</td>\n",
       "      <td>2</td>\n",
       "      <td>2</td>\n",
       "      <td>2</td>\n",
       "      <td>398000.00</td>\n",
       "    </tr>\n",
       "    <tr>\n",
       "      <th>1294</th>\n",
       "      <td>Rua Belini</td>\n",
       "      <td>Alto de Pinheiros</td>\n",
       "      <td>São Paulo</td>\n",
       "      <td>684</td>\n",
       "      <td>4</td>\n",
       "      <td>7</td>\n",
       "      <td>10</td>\n",
       "      <td>8550000.00</td>\n",
       "    </tr>\n",
       "    <tr>\n",
       "      <th>3220</th>\n",
       "      <td>Rua Comendador Elias Zarzur</td>\n",
       "      <td>Santo Amaro</td>\n",
       "      <td>São Paulo</td>\n",
       "      <td>324</td>\n",
       "      <td>4</td>\n",
       "      <td>5</td>\n",
       "      <td>3</td>\n",
       "      <td>3500000.00</td>\n",
       "    </tr>\n",
       "    <tr>\n",
       "      <th>7027</th>\n",
       "      <td>Avenida Manoel dos Reis Araújo</td>\n",
       "      <td>Jardim Marajoara</td>\n",
       "      <td>São Paulo</td>\n",
       "      <td>595</td>\n",
       "      <td>2</td>\n",
       "      <td>3</td>\n",
       "      <td>6</td>\n",
       "      <td>1100000.00</td>\n",
       "    </tr>\n",
       "    <tr>\n",
       "      <th>1064</th>\n",
       "      <td>Rua Comendador Bichara Moherdauí</td>\n",
       "      <td>Jardim Leonor</td>\n",
       "      <td>São Paulo</td>\n",
       "      <td>640</td>\n",
       "      <td>5</td>\n",
       "      <td>8</td>\n",
       "      <td>4</td>\n",
       "      <td>3800000.00</td>\n",
       "    </tr>\n",
       "    <tr>\n",
       "      <th>9529</th>\n",
       "      <td>Rua Maria Leonete da Silva Nóbrega</td>\n",
       "      <td>Vila Ida</td>\n",
       "      <td>São Paulo</td>\n",
       "      <td>270</td>\n",
       "      <td>4</td>\n",
       "      <td>5</td>\n",
       "      <td>4</td>\n",
       "      <td>1950000.00</td>\n",
       "    </tr>\n",
       "    <tr>\n",
       "      <th>9390</th>\n",
       "      <td>Rua Lázaro José Gonçalves</td>\n",
       "      <td>Jardim Avelino</td>\n",
       "      <td>São Paulo</td>\n",
       "      <td>285</td>\n",
       "      <td>3</td>\n",
       "      <td>6</td>\n",
       "      <td>4</td>\n",
       "      <td>1580000.00</td>\n",
       "    </tr>\n",
       "  </tbody>\n",
       "</table>\n",
       "</div>"
      ],
      "text/plain": [
       "                                     Rua             Bairro     Cidade  \\\n",
       "7148     Rua José Alencar Castelo Branco          Siciliano  São Paulo   \n",
       "179                         Rua Serenata      Vila Prudente  São Paulo   \n",
       "2462                 Rua Capital Federal             Sumaré  São Paulo   \n",
       "9739              Rua Luís Sérgio Person    Parque Mandaqui  São Paulo   \n",
       "1294                          Rua Belini  Alto de Pinheiros  São Paulo   \n",
       "3220         Rua Comendador Elias Zarzur        Santo Amaro  São Paulo   \n",
       "7027      Avenida Manoel dos Reis Araújo   Jardim Marajoara  São Paulo   \n",
       "1064    Rua Comendador Bichara Moherdauí      Jardim Leonor  São Paulo   \n",
       "9529  Rua Maria Leonete da Silva Nóbrega           Vila Ida  São Paulo   \n",
       "9390           Rua Lázaro José Gonçalves     Jardim Avelino  São Paulo   \n",
       "\n",
       "      Metragem  Quartos  Banheiros  Vagas  Valor_BRL  \n",
       "7148       130        3          3      3 1100000.00  \n",
       "179        140        3          3      2  490000.00  \n",
       "2462       230        4          2      1 1500000.00  \n",
       "9739       144        2          2      2  398000.00  \n",
       "1294       684        4          7     10 8550000.00  \n",
       "3220       324        4          5      3 3500000.00  \n",
       "7027       595        2          3      6 1100000.00  \n",
       "1064       640        5          8      4 3800000.00  \n",
       "9529       270        4          5      4 1950000.00  \n",
       "9390       285        3          6      4 1580000.00  "
      ]
     },
     "execution_count": 30,
     "metadata": {},
     "output_type": "execute_result"
    }
   ],
   "source": [
    "# Split column 'Valor'\n",
    "prop_parking[['Moeda', 'Valor_Anuncio', 'Tipo_Anuncio']] = prop_parking['Valor'].str.split(expand=True)\n",
    "\n",
    "# Filter properties for sale - rentals contain values 'per month/per year' in the column 'Tipo_Anuncio', therefore we will only keep null entries.\n",
    "sale_properties = prop_parking[prop_parking['Tipo_Anuncio'].isna()]\n",
    "\n",
    "# Convert 'Prices' format from string to float\n",
    "sale_properties[\"Valor_BRL\"] = sale_properties[\"Valor_Anuncio\"].str.replace(\".\",\"\").astype(float)\n",
    "\n",
    "# Config display to suppress decimal cases and scientific notation of floats\n",
    "pd.set_option(\"display.precision\", 2)\n",
    "pd.set_option('display.float_format', lambda x: '%.2f' % x)\n",
    "\n",
    "# Keep columns relevants to the project\n",
    "sale_properties = sale_properties.drop(['Valor', 'Moeda', 'Valor_Anuncio', 'Tipo_Anuncio'], axis=1)\n",
    "\n",
    "# Validate transformation\n",
    "sale_properties.sample(10, random_state=1)"
   ]
  },
  {
   "cell_type": "code",
   "execution_count": 31,
   "metadata": {},
   "outputs": [
    {
     "data": {
      "text/plain": [
       "count       5745.00\n",
       "mean     2316772.97\n",
       "std      2543166.15\n",
       "min        13000.00\n",
       "25%       840000.00\n",
       "50%      1500000.00\n",
       "75%      2820000.00\n",
       "max     37000000.00\n",
       "Name: Valor_BRL, dtype: float64"
      ]
     },
     "execution_count": 31,
     "metadata": {},
     "output_type": "execute_result"
    }
   ],
   "source": [
    "# Check summary statistics\n",
    "sale_properties['Valor_BRL'].describe()"
   ]
  },
  {
   "cell_type": "code",
   "execution_count": 32,
   "metadata": {},
   "outputs": [
    {
     "data": {
      "image/png": "[encoded data removed]",
      "text/plain": [
       "<Figure size 576x432 with 1 Axes>"
      ]
     },
     "metadata": {},
     "output_type": "display_data"
    }
   ],
   "source": [
    "# Boxplot of Property Values\n",
    "plt.figure(figsize=(8,6))\n",
    "sns.boxplot(x='Valor_BRL', data=sale_properties).set(title = 'Boxplot of Property Values (Raw)')\n",
    "plt.show()"
   ]
  },
  {
   "cell_type": "code",
   "execution_count": 33,
   "metadata": {},
   "outputs": [
    {
     "name": "stdout",
     "output_type": "stream",
     "text": [
      "Lower Limit: -2130000.0\n",
      "Upper Limit: 5790000.0\n"
     ]
    },
    {
     "data": {
      "image/png": "[encoded data removed]",
      "text/plain": [
       "<Figure size 576x432 with 1 Axes>"
      ]
     },
     "metadata": {},
     "output_type": "display_data"
    },
    {
     "data": {
      "image/png": "[encoded data removed]",
      "text/plain": [
       "<Figure size 576x432 with 1 Axes>"
      ]
     },
     "metadata": {},
     "output_type": "display_data"
    }
   ],
   "source": [
    "# Apply continuous outlier removal function to the column 'Valor_BRL'\n",
    "sale_properties = continuous_iqr_range_outlier_removal(sale_properties, 'Valor_BRL')\n",
    "\n",
    "# Histogram of Property Areas\n",
    "plt.figure(figsize=(8,6))\n",
    "sns.set_style('darkgrid')\n",
    "sns.histplot(x='Valor_BRL', data=sale_properties, kde=True).set(title = 'Sao Paulo Property Prices', xlabel='Property Prices (BRL)', ylabel='Counts')\n",
    "plt.show()\n",
    "\n",
    "# Boxplot of Property Areas\n",
    "plt.figure(figsize=(8,6))\n",
    "sns.boxplot(x='Valor_BRL', data=sale_properties).set(title = 'Boxplot of Sao Paulo Property Prices', xlabel='Property Prices (BRL)')\n",
    "plt.show()"
   ]
  },
  {
   "cell_type": "code",
   "execution_count": 34,
   "metadata": {},
   "outputs": [
    {
     "name": "stdout",
     "output_type": "stream",
     "text": [
      "<class 'pandas.core.frame.DataFrame'>\n",
      "Int64Index: 5347 entries, 1 to 10007\n",
      "Data columns (total 8 columns):\n",
      " #   Column     Non-Null Count  Dtype  \n",
      "---  ------     --------------  -----  \n",
      " 0   Rua        5347 non-null   object \n",
      " 1   Bairro     5347 non-null   object \n",
      " 2   Cidade     5347 non-null   object \n",
      " 3   Metragem   5347 non-null   int64  \n",
      " 4   Quartos    5347 non-null   int64  \n",
      " 5   Banheiros  5347 non-null   int64  \n",
      " 6   Vagas      5347 non-null   int64  \n",
      " 7   Valor_BRL  5347 non-null   float64\n",
      "dtypes: float64(1), int64(4), object(3)\n",
      "memory usage: 376.0+ KB\n"
     ]
    }
   ],
   "source": [
    "# Check validated data shape and types\n",
    "sale_properties.info()"
   ]
  },
  {
   "cell_type": "code",
   "execution_count": 35,
   "metadata": {},
   "outputs": [],
   "source": [
    "# Save validated dataset to csv\n",
    "sale_properties.to_csv('datasets/sp_sale_properties.csv')"
   ]
  }
 ],
 "metadata": {
  "colab": {
   "authorship_tag": "ABX9TyMkPyDEIW05J0PM8nDPlemG",
   "collapsed_sections": [],
   "mount_file_id": "1FnyPZbbSSKpjuTAyUBp5IrxognBgtgmn",
   "name": "Sao_Paulo_28_06",
   "provenance": [
    {
     "file_id": "1CVgoIhzFHmpx28ovhCh3amsruyDWCHHJ",
     "timestamp": 1656113637817
    },
    {
     "file_id": "1tvnGMh0jmx9Ml1hJ9VHLdK1F91zqSe-F",
     "timestamp": 1653705337898
    },
    {
     "file_id": "1PThSZDqv_JDmvpcw_tsVvNU-3AR6nI40",
     "timestamp": 1653595648253
    }
   ],
   "toc_visible": true
  },
  "kernelspec": {
   "display_name": "Python 3 (ipykernel)",
   "language": "python",
   "name": "python3"
  },
  "language_info": {
   "codemirror_mode": {
    "name": "ipython",
    "version": 3
   },
   "file_extension": ".py",
   "mimetype": "text/x-python",
   "name": "python",
   "nbconvert_exporter": "python",
   "pygments_lexer": "ipython3",
   "version": "3.10.6"
  },
  "vscode": {
   "interpreter": {
    "hash": "6e0175d9b0c9475eded83b1cf968907e2edf20194a793e080d738af2352276a0"
   }
  }
 },
 "nbformat": 4,
 "nbformat_minor": 4
}

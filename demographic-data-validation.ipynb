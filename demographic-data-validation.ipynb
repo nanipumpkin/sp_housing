{
 "cells": [
  {
   "attachments": {},
   "cell_type": "markdown",
   "metadata": {
    "id": "Bg9dsAGTg-sL"
   },
   "source": [
    "## Demographic Data Validation"
   ]
  },
  {
   "cell_type": "code",
   "execution_count": 6,
   "metadata": {},
   "outputs": [],
   "source": [
    "# Import libraries\n",
    "import pandas as pd"
   ]
  },
  {
   "cell_type": "code",
   "execution_count": 7,
   "metadata": {},
   "outputs": [],
   "source": [
    "# Read in dataset\n",
    "demographics = pd.read_csv('datasets/Basico_SP1.csv', encoding='ISO-8859-1', sep=';', thousands='.', decimal=',', usecols=[0, 14, 21, 22, 23, 25])"
   ]
  },
  {
   "cell_type": "code",
   "execution_count": 8,
   "metadata": {},
   "outputs": [
    {
     "name": "stdout",
     "output_type": "stream",
     "text": [
      "<class 'pandas.core.frame.DataFrame'>\n",
      "RangeIndex: 18363 entries, 0 to 18362\n",
      "Data columns (total 6 columns):\n",
      " #   Column            Non-Null Count  Dtype  \n",
      "---  ------            --------------  -----  \n",
      " 0   Cod_setor         18363 non-null  int64  \n",
      " 1   Nome_do_distrito  18363 non-null  object \n",
      " 2   V001              18333 non-null  float64\n",
      " 3   V002              18333 non-null  float64\n",
      " 4   V003              18333 non-null  float64\n",
      " 5   V005              18333 non-null  float64\n",
      "dtypes: float64(4), int64(1), object(1)\n",
      "memory usage: 860.9+ KB\n"
     ]
    }
   ],
   "source": [
    "# Check original data shape, types and missing entries\n",
    "demographics.info()"
   ]
  },
  {
   "cell_type": "code",
   "execution_count": 9,
   "metadata": {},
   "outputs": [],
   "source": [
    "# Rename columns to improve data legibility\n",
    "demographics.columns = ['sector_id', 'ward', 'households', 'sector_dwellers', 'household_dwellers', 'avg_monthly_income']"
   ]
  },
  {
   "cell_type": "code",
   "execution_count": 10,
   "metadata": {},
   "outputs": [],
   "source": [
    "# Save validated dataset to csv\n",
    "demographics.to_csv('datasets/sp_demographics.csv')"
   ]
  }
 ],
 "metadata": {
  "colab": {
   "authorship_tag": "ABX9TyMkPyDEIW05J0PM8nDPlemG",
   "collapsed_sections": [],
   "mount_file_id": "1FnyPZbbSSKpjuTAyUBp5IrxognBgtgmn",
   "name": "Sao_Paulo_28_06",
   "provenance": [
    {
     "file_id": "1CVgoIhzFHmpx28ovhCh3amsruyDWCHHJ",
     "timestamp": 1656113637817
    },
    {
     "file_id": "1tvnGMh0jmx9Ml1hJ9VHLdK1F91zqSe-F",
     "timestamp": 1653705337898
    },
    {
     "file_id": "1PThSZDqv_JDmvpcw_tsVvNU-3AR6nI40",
     "timestamp": 1653595648253
    }
   ],
   "toc_visible": true
  },
  "kernelspec": {
   "display_name": "Python 3 (ipykernel)",
   "language": "python",
   "name": "python3"
  },
  "language_info": {
   "codemirror_mode": {
    "name": "ipython",
    "version": 3
   },
   "file_extension": ".py",
   "mimetype": "text/x-python",
   "name": "python",
   "nbconvert_exporter": "python",
   "pygments_lexer": "ipython3",
   "version": "3.10.6"
  },
  "vscode": {
   "interpreter": {
    "hash": "6e0175d9b0c9475eded83b1cf968907e2edf20194a793e080d738af2352276a0"
   }
  }
 },
 "nbformat": 4,
 "nbformat_minor": 4
}

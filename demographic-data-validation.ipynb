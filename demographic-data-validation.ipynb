{
 "cells": [
  {
   "attachments": {},
   "cell_type": "markdown",
   "metadata": {
    "id": "Bg9dsAGTg-sL"
   },
   "source": [
    "## Demographic Data Validation"
   ]
  },
  {
   "cell_type": "code",
   "execution_count": 12,
   "metadata": {},
   "outputs": [],
   "source": [
    "# Import libraries\n",
    "import pandas as pd"
   ]
  },
  {
   "cell_type": "code",
   "execution_count": 13,
   "metadata": {},
   "outputs": [],
   "source": [
    "# Read in dataset\n",
    "demographics = pd.read_csv('datasets/Basico_SP1.csv', encoding='ISO-8859-1', sep=';', thousands='.', decimal=',', usecols=[0, 14, 21, 22, 23, 25])"
   ]
  },
  {
   "cell_type": "code",
   "execution_count": 14,
   "metadata": {},
   "outputs": [
    {
     "name": "stdout",
     "output_type": "stream",
     "text": [
      "<class 'pandas.core.frame.DataFrame'>\n",
      "RangeIndex: 18363 entries, 0 to 18362\n",
      "Data columns (total 6 columns):\n",
      " #   Column            Non-Null Count  Dtype  \n",
      "---  ------            --------------  -----  \n",
      " 0   Cod_setor         18363 non-null  int64  \n",
      " 1   Nome_do_distrito  18363 non-null  object \n",
      " 2   V001              18333 non-null  float64\n",
      " 3   V002              18333 non-null  float64\n",
      " 4   V003              18333 non-null  float64\n",
      " 5   V005              18333 non-null  float64\n",
      "dtypes: float64(4), int64(1), object(1)\n",
      "memory usage: 860.9+ KB\n"
     ]
    }
   ],
   "source": [
    "# Check original data shape, types and missing entries\n",
    "demographics.info()"
   ]
  },
  {
   "cell_type": "code",
   "execution_count": 15,
   "metadata": {},
   "outputs": [],
   "source": [
    "# Rename columns to improve data legibility\n",
    "demographics.columns = ['sector_id', 'district', 'households', 'sector_dwellers', 'household_dwellers', 'avg_monthly_income']"
   ]
  },
  {
   "cell_type": "code",
   "execution_count": 16,
   "metadata": {},
   "outputs": [
    {
     "data": {
      "text/html": [
       "<div>\n",
       "<style scoped>\n",
       "    .dataframe tbody tr th:only-of-type {\n",
       "        vertical-align: middle;\n",
       "    }\n",
       "\n",
       "    .dataframe tbody tr th {\n",
       "        vertical-align: top;\n",
       "    }\n",
       "\n",
       "    .dataframe thead th {\n",
       "        text-align: right;\n",
       "    }\n",
       "</style>\n",
       "<table border=\"1\" class=\"dataframe\">\n",
       "  <thead>\n",
       "    <tr style=\"text-align: right;\">\n",
       "      <th></th>\n",
       "      <th>sector_id</th>\n",
       "      <th>district</th>\n",
       "      <th>households</th>\n",
       "      <th>sector_dwellers</th>\n",
       "      <th>household_dwellers</th>\n",
       "      <th>avg_monthly_income</th>\n",
       "    </tr>\n",
       "  </thead>\n",
       "  <tbody>\n",
       "    <tr>\n",
       "      <th>0</th>\n",
       "      <td>355030801000001</td>\n",
       "      <td>ÁGUA RASA</td>\n",
       "      <td>266.0</td>\n",
       "      <td>800.0</td>\n",
       "      <td>3.01</td>\n",
       "      <td>2091.32</td>\n",
       "    </tr>\n",
       "    <tr>\n",
       "      <th>1</th>\n",
       "      <td>355030801000002</td>\n",
       "      <td>ÁGUA RASA</td>\n",
       "      <td>306.0</td>\n",
       "      <td>913.0</td>\n",
       "      <td>2.98</td>\n",
       "      <td>1650.09</td>\n",
       "    </tr>\n",
       "    <tr>\n",
       "      <th>2</th>\n",
       "      <td>355030801000003</td>\n",
       "      <td>ÁGUA RASA</td>\n",
       "      <td>189.0</td>\n",
       "      <td>625.0</td>\n",
       "      <td>3.31</td>\n",
       "      <td>1280.43</td>\n",
       "    </tr>\n",
       "    <tr>\n",
       "      <th>3</th>\n",
       "      <td>355030801000004</td>\n",
       "      <td>ÁGUA RASA</td>\n",
       "      <td>181.0</td>\n",
       "      <td>572.0</td>\n",
       "      <td>3.16</td>\n",
       "      <td>1119.59</td>\n",
       "    </tr>\n",
       "    <tr>\n",
       "      <th>4</th>\n",
       "      <td>355030801000005</td>\n",
       "      <td>ÁGUA RASA</td>\n",
       "      <td>240.0</td>\n",
       "      <td>754.0</td>\n",
       "      <td>3.14</td>\n",
       "      <td>1416.90</td>\n",
       "    </tr>\n",
       "    <tr>\n",
       "      <th>...</th>\n",
       "      <td>...</td>\n",
       "      <td>...</td>\n",
       "      <td>...</td>\n",
       "      <td>...</td>\n",
       "      <td>...</td>\n",
       "      <td>...</td>\n",
       "    </tr>\n",
       "    <tr>\n",
       "      <th>18358</th>\n",
       "      <td>355030896000243</td>\n",
       "      <td>LAJEADO</td>\n",
       "      <td>96.0</td>\n",
       "      <td>336.0</td>\n",
       "      <td>3.50</td>\n",
       "      <td>772.09</td>\n",
       "    </tr>\n",
       "    <tr>\n",
       "      <th>18359</th>\n",
       "      <td>355030896000244</td>\n",
       "      <td>LAJEADO</td>\n",
       "      <td>54.0</td>\n",
       "      <td>209.0</td>\n",
       "      <td>3.87</td>\n",
       "      <td>692.50</td>\n",
       "    </tr>\n",
       "    <tr>\n",
       "      <th>18360</th>\n",
       "      <td>355030896000245</td>\n",
       "      <td>LAJEADO</td>\n",
       "      <td>87.0</td>\n",
       "      <td>339.0</td>\n",
       "      <td>3.90</td>\n",
       "      <td>630.06</td>\n",
       "    </tr>\n",
       "    <tr>\n",
       "      <th>18361</th>\n",
       "      <td>355030896000246</td>\n",
       "      <td>LAJEADO</td>\n",
       "      <td>38.0</td>\n",
       "      <td>163.0</td>\n",
       "      <td>4.29</td>\n",
       "      <td>597.37</td>\n",
       "    </tr>\n",
       "    <tr>\n",
       "      <th>18362</th>\n",
       "      <td>355030896000247</td>\n",
       "      <td>LAJEADO</td>\n",
       "      <td>123.0</td>\n",
       "      <td>464.0</td>\n",
       "      <td>3.77</td>\n",
       "      <td>630.13</td>\n",
       "    </tr>\n",
       "  </tbody>\n",
       "</table>\n",
       "<p>18363 rows × 6 columns</p>\n",
       "</div>"
      ],
      "text/plain": [
       "             sector_id   district  households  sector_dwellers  \\\n",
       "0      355030801000001  ÁGUA RASA       266.0            800.0   \n",
       "1      355030801000002  ÁGUA RASA       306.0            913.0   \n",
       "2      355030801000003  ÁGUA RASA       189.0            625.0   \n",
       "3      355030801000004  ÁGUA RASA       181.0            572.0   \n",
       "4      355030801000005  ÁGUA RASA       240.0            754.0   \n",
       "...                ...        ...         ...              ...   \n",
       "18358  355030896000243    LAJEADO        96.0            336.0   \n",
       "18359  355030896000244    LAJEADO        54.0            209.0   \n",
       "18360  355030896000245    LAJEADO        87.0            339.0   \n",
       "18361  355030896000246    LAJEADO        38.0            163.0   \n",
       "18362  355030896000247    LAJEADO       123.0            464.0   \n",
       "\n",
       "       household_dwellers  avg_monthly_income  \n",
       "0                    3.01             2091.32  \n",
       "1                    2.98             1650.09  \n",
       "2                    3.31             1280.43  \n",
       "3                    3.16             1119.59  \n",
       "4                    3.14             1416.90  \n",
       "...                   ...                 ...  \n",
       "18358                3.50              772.09  \n",
       "18359                3.87              692.50  \n",
       "18360                3.90              630.06  \n",
       "18361                4.29              597.37  \n",
       "18362                3.77              630.13  \n",
       "\n",
       "[18363 rows x 6 columns]"
      ]
     },
     "execution_count": 16,
     "metadata": {},
     "output_type": "execute_result"
    }
   ],
   "source": [
    "# Validate transformations\n",
    "demographics"
   ]
  },
  {
   "cell_type": "code",
   "execution_count": 17,
   "metadata": {},
   "outputs": [],
   "source": [
    "# Save validated dataset to csv\n",
    "demographics.to_csv('datasets/sp_demographics.csv')"
   ]
  }
 ],
 "metadata": {
  "colab": {
   "authorship_tag": "ABX9TyMkPyDEIW05J0PM8nDPlemG",
   "collapsed_sections": [],
   "mount_file_id": "1FnyPZbbSSKpjuTAyUBp5IrxognBgtgmn",
   "name": "Sao_Paulo_28_06",
   "provenance": [
    {
     "file_id": "1CVgoIhzFHmpx28ovhCh3amsruyDWCHHJ",
     "timestamp": 1656113637817
    },
    {
     "file_id": "1tvnGMh0jmx9Ml1hJ9VHLdK1F91zqSe-F",
     "timestamp": 1653705337898
    },
    {
     "file_id": "1PThSZDqv_JDmvpcw_tsVvNU-3AR6nI40",
     "timestamp": 1653595648253
    }
   ],
   "toc_visible": true
  },
  "kernelspec": {
   "display_name": "Python 3 (ipykernel)",
   "language": "python",
   "name": "python3"
  },
  "language_info": {
   "codemirror_mode": {
    "name": "ipython",
    "version": 3
   },
   "file_extension": ".py",
   "mimetype": "text/x-python",
   "name": "python",
   "nbconvert_exporter": "python",
   "pygments_lexer": "ipython3",
   "version": "3.10.6"
  },
  "vscode": {
   "interpreter": {
    "hash": "6e0175d9b0c9475eded83b1cf968907e2edf20194a793e080d738af2352276a0"
   }
  }
 },
 "nbformat": 4,
 "nbformat_minor": 4
}

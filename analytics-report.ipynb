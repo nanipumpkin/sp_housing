{
 "cells": [
  {
   "cell_type": "markdown",
   "metadata": {},
   "source": [
    "# Sao Paulo Housing Prices Analysis Report\n",
    "\n",
    "Marianne Costa Avalone, Data Analyst"
   ]
  },
  {
   "attachments": {},
   "cell_type": "markdown",
   "metadata": {},
   "source": [
    "## Property Data Validation\n",
    "\n",
    "The dataset contains **10008 rows and 8 rows with 3446 missing values** before cleaning and validation. All the columns in the dataset have been validated according to the following criteria:\n",
    "- **Rua** (*address*): string values with 3434 missing values, representing 34,3% of the dataset. These were dropped, because the address is considered essential factor for price analysis, and it can be a key to identify other features, such as census data. House numbers were removed through string formatting for preventing home identification and preserving private household information.\n",
    "- **Bairro** (*ward*): string values with 12 missing entries. These were searched out within entries at the same addresses in the dataset. 11 were found, and 1 remained missing. The missing ward was googled. A dictionary of addresses and wards was created, and an apply lambda function was used to fill-in the missing values.\n",
    "- **Cidade** (*city*): non-null string values with a unique city count, confirming all data belongs to the city of Sao Paulo. No cleaning was necessary.\n",
    "- **Metragem** (*area/sqm*): float values representing property areas, without missing values. Summary statistics revealed right-skewed data and the presence of extreme outliers. Those were removed using interquartile based filtering.\n",
    "- **Quartos** (*bedrooms*): integer values representing the amount of bedrooms, without missing vales. Summary statistics revealed right-skewed data, and the presence of outliers. Those were removed using interquartile based filtering, expanding the interval to the nearest integer values.\n",
    "- **Banheiros** (*bathrooms*): integer values representing the amount of bathrooms, without missing vales. Summary statistics revealed right-skewed data, and the presence of outliers. Those were removed using interquartile based filtering, expanding the interval to the nearest integer values.\n",
    "- **Vagas** (*parking spaces*): integer values representing the amount of parking spaces, without missing vales. Summary statistics revealed right-skewed data, and the presence of outliers. Those were removed using interquartile based filtering, expanding the interval to the nearest integer values.\n",
    "- **Valor** (*property prices*): string values instead of float values representing property prices. All include currency info, and some include monthly/yearly arrangements, suggesting rental listings. With the purpose of keeping only sale listings, this column was split and expanded into three columns: \"Moeda\", \"Valor_Anuncio\" and \"Tipo_Anuncio\". Considering that \"Tipo_Anuncio\" would only contain complementary info on monthly/yearly arrangements, we kept only the entries that had null values on this column. After dropping the additional columns, renaming the column to \"Valor_BRL\" to aggregate the currency info, outliers were removed using interquartile based filtering.\n",
    "After the data validation, the dataset contains **5347 rows and 8 columns** without missing values.\n"
   ]
  }
 ],
 "metadata": {
  "kernelspec": {
   "display_name": "Python 3.10.6 64-bit",
   "language": "python",
   "name": "python3"
  },
  "language_info": {
   "name": "python",
   "version": "3.10.6 (main, Nov 14 2022, 16:10:14) [GCC 11.3.0]"
  },
  "orig_nbformat": 4,
  "vscode": {
   "interpreter": {
    "hash": "916dbcbb3f70747c44a77c7bcd40155683ae19c65e1c03b4aa3499c5328201f1"
   }
  }
 },
 "nbformat": 4,
 "nbformat_minor": 2
}

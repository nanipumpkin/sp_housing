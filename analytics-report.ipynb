{
 "cells": [
  {
   "cell_type": "markdown",
   "metadata": {},
   "source": [
    "# Sao Paulo Housing Prices Analysis Report\n",
    "\n",
    "Marianne Costa Avalone, Data Analyst"
   ]
  },
  {
   "cell_type": "markdown",
   "metadata": {},
   "source": [
    "## Data Validation\n",
    "\n",
    "The dataset contains **10008 rows and 8 rows with 3446 missing values** before cleaning and validation. All the columns in the dataset have been validated according to the following criteria:\n",
    "- Rua (address): string values with 3434 missing values, representing 34,3% of the dataset. These were dropped, because the address is considered essential factor for price analysis, and it can be a key to identify other features, such as census data. House numbers were removed through string formatting to prevent home identification and preserve private household information.\n",
    "- Bairro (ward): string values with 12 missing entries. These were searched out within entries at the same addresses in the dataset. 11 were found, and 1 remained missing. The missing ward was googled. A dictionary of addresses and wards was created. Finally, an apply lambda function was used to fill-in the missing values, resulting a total of 6574 non-null entries.\n",
    "- Cidade (city): 6574 non-null string values with one unique city name, confirming all data belongs to the city of Sao Paulo. No cleaning was necessary.\n",
    "- Metragem (area/sqm): 6574 non-null integer entries. An outlier check revealed abnormally large properties. To filter them out, properties were sorted out in an descending order, and boxplots of the largest properties grouped by city and by ward were created. A cap was established by testing each entry, and finding the first sample within whiskers at the neighborhood level. As for the bottom, we considered a minimum feasible area per room of 2sqm.\n",
    "- Quartos: 1074 missing values representing 7,16% of the dataset. To confirm whether these customers had churned, I checked if the number of products sold (nb_sold) was marked as 0, but the minimum was 7. In an effort to estimate the missing revenue values, the correlation against all other variables was checked. The best estimate could be made through a moderate positive correlation (0.696) with number of products (nb_sold). Therefore, instead of dropping these entries, it was considered suitable filling in the missing values with the average revenue by number of products.\n",
    "- Banheiros: the number of years as customer shouldn't exceed the number of years since the company foundation (1984). As the instructions is dated from today (2022-12-28), the company is 39 years old. Two entries exceeded that age, and therefore were considered defective. To prevent interpreting issues, these samples were dropped.\n",
    "- Vagas: average of 25 visits to the company website, without missing vales. No cleaning was necessary.\n",
    "- Valor: sales accross all 50 states of America, without missing values. No cleaning was necessary.\n",
    "After the data validation, the dataset contains **6566 rows and 9 columns** without missing values.\n"
   ]
  },
  {
   "cell_type": "code",
   "execution_count": null,
   "metadata": {},
   "outputs": [],
   "source": []
  },
  {
   "cell_type": "code",
   "execution_count": null,
   "metadata": {},
   "outputs": [],
   "source": []
  }
 ],
 "metadata": {
  "kernelspec": {
   "display_name": "Python 3.10.6 64-bit",
   "language": "python",
   "name": "python3"
  },
  "language_info": {
   "name": "python",
   "version": "3.10.6 (main, Nov 14 2022, 16:10:14) [GCC 11.3.0]"
  },
  "orig_nbformat": 4,
  "vscode": {
   "interpreter": {
    "hash": "916dbcbb3f70747c44a77c7bcd40155683ae19c65e1c03b4aa3499c5328201f1"
   }
  }
 },
 "nbformat": 4,
 "nbformat_minor": 2
}
